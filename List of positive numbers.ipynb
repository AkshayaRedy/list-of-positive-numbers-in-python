{
 "cells": [
  {
   "cell_type": "code",
   "execution_count": 1,
   "id": "ed1f7274",
   "metadata": {},
   "outputs": [
    {
     "name": "stdout",
     "output_type": "stream",
     "text": [
      "Original numbers in the list:  [22, 34, 73, -45, -79, 9, -44, 12, -76]\n",
      "Positive numbers in the list:  [22, 34, 73, 9, 12]\n"
     ]
    }
   ],
   "source": [
    "nums = [22,34,73,-45,-79,9,-44,12,-76]\n",
    "print(\"Original numbers in the list: \",nums)\n",
    "new_nums = list(filter(lambda x: x >0, nums))\n",
    "print(\"Positive numbers in the list: \",new_nums)"
   ]
  },
  {
   "cell_type": "code",
   "execution_count": null,
   "id": "ba97dd28",
   "metadata": {},
   "outputs": [],
   "source": []
  }
 ],
 "metadata": {
  "kernelspec": {
   "display_name": "Python 3 (ipykernel)",
   "language": "python",
   "name": "python3"
  },
  "language_info": {
   "codemirror_mode": {
    "name": "ipython",
    "version": 3
   },
   "file_extension": ".py",
   "mimetype": "text/x-python",
   "name": "python",
   "nbconvert_exporter": "python",
   "pygments_lexer": "ipython3",
   "version": "3.8.3"
  }
 },
 "nbformat": 4,
 "nbformat_minor": 5
}
